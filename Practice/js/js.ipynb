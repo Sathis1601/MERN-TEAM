{
 "cells": [
  {
   "cell_type": "markdown",
   "metadata": {},
   "source": [
    "## Operator"
   ]
  },
  {
   "cell_type": "markdown",
   "metadata": {},
   "source": [
    "== Lose Equality Operator \n",
    "1. true == 1 (true)\n",
    "2. 1 == \"1\" (true)\n",
    "3. null == undefined (true)\n",
    "4. undefined == true (false)"
   ]
  },
  {
   "cell_type": "markdown",
   "metadata": {},
   "source": []
  }
 ],
 "metadata": {
  "language_info": {
   "name": "python"
  }
 },
 "nbformat": 4,
 "nbformat_minor": 2
}
